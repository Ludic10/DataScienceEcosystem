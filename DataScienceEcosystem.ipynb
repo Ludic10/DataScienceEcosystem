{
 "cells": [
  {
   "cell_type": "markdown",
   "id": "fc7175fc-7adf-47ff-bcd2-4f76b1e1869d",
   "metadata": {},
   "source": [
    "# Data Science Tools end Ecosystem"
   ]
  },
  {
   "cell_type": "markdown",
   "id": "d2fd981f-1a20-4bcf-b50c-f7d339e25cd7",
   "metadata": {},
   "source": [
    "<h2>Author</h2>\n",
    "Diego Cauich"
   ]
  },
  {
   "cell_type": "markdown",
   "id": "bd26f52b-f28c-496c-af0e-dcc509843300",
   "metadata": {},
   "source": [
    "<h2>Author</h2>\n",
    "Diego Cauich"
   ]
  },
  {
   "cell_type": "markdown",
   "id": "e7ad17d4-fdda-4a02-a6bb-859aca7c569a",
   "metadata": {},
   "source": [
    "## In this notebook, Data Science Tools and Ecosystem are summarized"
   ]
  },
  {
   "cell_type": "markdown",
   "id": "34a51830-3824-411b-970a-dc793f924c9b",
   "metadata": {},
   "source": [
    "### **Objectives:**\n",
    "<ul>\n",
    "<li>List popular languages for Data Science</li>\n",
    "<li>List popular libraries for Data Science</li>\n",
    "<li>List popular tools for Data Science</li>\n",
    "</ul>"
   ]
  },
  {
   "cell_type": "markdown",
   "id": "a7e0fe45-1079-423b-af38-f10cb2ab573b",
   "metadata": {},
   "source": [
    "### Some of the popular languages that Data Scientists use are:\n",
    "<ol>\n",
    "<li>Python</li>\n",
    "<li>R</li>\n",
    "<li>SQL</li>\n",
    "</ol>"
   ]
  },
  {
   "cell_type": "markdown",
   "id": "d4a785cc-1882-44aa-809f-dda7d0b62f2c",
   "metadata": {},
   "source": [
    "<h3>Some of the commonly used libraries used by Data Scientists include:</h3>\n",
    "<ol>\n",
    "    <li>Pandas</li>\n",
    "    <li>ggplot2</li>\n",
    "    <li>TensorFlow</li>\n",
    "</ol>"
   ]
  },
  {
   "cell_type": "markdown",
   "id": "b89ffa63-d2eb-45c6-a515-e56f26ee837f",
   "metadata": {},
   "source": [
    "|Data Science Tools|\n",
    "|------------------|\n",
    "|Anaconda|\n",
    "|Jupyter Notebook|\n",
    "|Visual Studio Code|"
   ]
  },
  {
   "cell_type": "markdown",
   "id": "886773b2-61d7-4caf-9f30-05b0697c8f53",
   "metadata": {},
   "source": [
    "### Below are a few examples of evaluating arithmetic expressions in Python"
   ]
  },
  {
   "cell_type": "code",
   "execution_count": 1,
   "id": "20839a60-aa2a-420d-92fc-a799aa414d69",
   "metadata": {},
   "outputs": [
    {
     "name": "stdout",
     "output_type": "stream",
     "text": [
      "17\n"
     ]
    }
   ],
   "source": [
    "#This a simple arithmetic expression to mutiply then add integers\n",
    "x = (3*4)+5\n",
    "print(x)"
   ]
  },
  {
   "cell_type": "code",
   "execution_count": 3,
   "id": "c3ac98e2-13c4-4471-b247-ab7ee3313cb7",
   "metadata": {},
   "outputs": [
    {
     "name": "stdout",
     "output_type": "stream",
     "text": [
      "3.3333333333333335\n"
     ]
    }
   ],
   "source": [
    "#This will convert 200 minutes to hours by diving by 60\n",
    "x = 200/60\n",
    "print(x)"
   ]
  },
  {
   "cell_type": "code",
   "execution_count": null,
   "id": "236be97f-70a2-42bc-80db-11232d249b5d",
   "metadata": {},
   "outputs": [],
   "source": []
  }
 ],
 "metadata": {
  "kernelspec": {
   "display_name": "Python 3 (ipykernel)",
   "language": "python",
   "name": "python3"
  },
  "language_info": {
   "codemirror_mode": {
    "name": "ipython",
    "version": 3
   },
   "file_extension": ".py",
   "mimetype": "text/x-python",
   "name": "python",
   "nbconvert_exporter": "python",
   "pygments_lexer": "ipython3",
   "version": "3.12.7"
  },
  "panel-cell-order": [
   "8a1f46e2-53a3-4222-8431-5d4fc53b5f05"
  ]
 },
 "nbformat": 4,
 "nbformat_minor": 5
}
